{
 "cells": [
  {
   "cell_type": "code",
   "execution_count": 1,
   "id": "9b9d0dd6",
   "metadata": {},
   "outputs": [],
   "source": [
    "from pyspark.sql import SparkSession\n",
    "import getpass\n",
    "\n",
    "username = getpass.getuser()\n",
    "\n",
    "spark = SparkSession. \\\n",
    "\tbuilder. \\\n",
    "\tconfig('spark.ui.port', '0'). \\\n",
    "\tconfig(\"spark.sql.warehouse.dir\", f\"/user/{username}/warehouse\"). \\\n",
    "\tenableHiveSupport(). \\\n",
    "\tmaster('yarn'). \\\n",
    "\tgetOrCreate()"
   ]
  },
  {
   "cell_type": "code",
   "execution_count": 2,
   "id": "a16ac1b6",
   "metadata": {},
   "outputs": [
    {
     "data": {
      "text/html": [
       "\n",
       "            <div>\n",
       "                <p><b>SparkSession - hive</b></p>\n",
       "                \n",
       "        <div>\n",
       "            <p><b>SparkContext</b></p>\n",
       "\n",
       "            <p><a href=\"http://g01.itversity.com:40851\">Spark UI</a></p>\n",
       "\n",
       "            <dl>\n",
       "              <dt>Version</dt>\n",
       "                <dd><code>v3.1.2</code></dd>\n",
       "              <dt>Master</dt>\n",
       "                <dd><code>yarn</code></dd>\n",
       "              <dt>AppName</dt>\n",
       "                <dd><code>pyspark-shell</code></dd>\n",
       "            </dl>\n",
       "        </div>\n",
       "        \n",
       "            </div>\n",
       "        "
      ],
      "text/plain": [
       "<pyspark.sql.session.SparkSession at 0x7f2ac498efd0>"
      ]
     },
     "execution_count": 2,
     "metadata": {},
     "output_type": "execute_result"
    }
   ],
   "source": [
    "spark"
   ]
  },
  {
   "cell_type": "code",
   "execution_count": 3,
   "id": "75c5218c",
   "metadata": {},
   "outputs": [],
   "source": [
    "order_df = spark.read \\\n",
    ".format(\"csv\") \\\n",
    ".option(\"header\",\"true\") \\\n",
    ".option(\"inferSchema\",\"true\") \\\n",
    ".load(\"/public/trendytech/orders_wh/*\")"
   ]
  },
  {
   "cell_type": "code",
   "execution_count": 4,
   "id": "06fbc67b",
   "metadata": {},
   "outputs": [
    {
     "data": {
      "text/plain": [
       "[Row(order_id=1, order_date='2013-07-25 00:00:00.0', customer_id=11599, order_status='CLOSED'),\n",
       " Row(order_id=2, order_date='2013-07-25 00:00:00.0', customer_id=256, order_status='PENDING_PAYMENT'),\n",
       " Row(order_id=3, order_date='2013-07-25 00:00:00.0', customer_id=12111, order_status='COMPLETE'),\n",
       " Row(order_id=4, order_date='2013-07-25 00:00:00.0', customer_id=8827, order_status='CLOSED'),\n",
       " Row(order_id=5, order_date='2013-07-25 00:00:00.0', customer_id=11318, order_status='COMPLETE')]"
      ]
     },
     "execution_count": 4,
     "metadata": {},
     "output_type": "execute_result"
    }
   ],
   "source": [
    "order_df.take(5)"
   ]
  },
  {
   "cell_type": "code",
   "execution_count": 5,
   "id": "67d93300",
   "metadata": {},
   "outputs": [],
   "source": [
    "order_df.createTempView(\"orders\")"
   ]
  },
  {
   "cell_type": "markdown",
   "id": "ffe5006f",
   "metadata": {},
   "source": [
    "### 1.Top 15 customers who placed most number of orders"
   ]
  },
  {
   "cell_type": "code",
   "execution_count": 6,
   "id": "26fda0e5",
   "metadata": {},
   "outputs": [],
   "source": [
    "top_15cust_orders_df = order_df.groupby(\"customer_id\") \\\n",
    ".count() \\\n",
    ".sort(\"count\", ascending=False) \\\n",
    ".limit(15)"
   ]
  },
  {
   "cell_type": "code",
   "execution_count": 7,
   "id": "197e6eeb",
   "metadata": {},
   "outputs": [
    {
     "name": "stdout",
     "output_type": "stream",
     "text": [
      "+-----------+-----+\n",
      "|customer_id|count|\n",
      "+-----------+-----+\n",
      "|       5897|   16|\n",
      "|      12431|   16|\n",
      "|        569|   16|\n",
      "|       6316|   16|\n",
      "|      12284|   15|\n",
      "|       4320|   15|\n",
      "|       5624|   15|\n",
      "|       5283|   15|\n",
      "|        221|   15|\n",
      "|       5654|   15|\n",
      "|       6248|   14|\n",
      "|       3708|   14|\n",
      "|       1011|   14|\n",
      "|       8652|   14|\n",
      "|       4517|   14|\n",
      "+-----------+-----+\n",
      "\n"
     ]
    }
   ],
   "source": [
    "top_15cust_orders_df.show()"
   ]
  },
  {
   "cell_type": "code",
   "execution_count": 8,
   "id": "01d6277e",
   "metadata": {},
   "outputs": [],
   "source": [
    "result = spark.sql(\"SELECT customer_id, count(1) no_of_customer from orders group by customer_id order by count(1) desc limit 15\")"
   ]
  },
  {
   "cell_type": "code",
   "execution_count": 9,
   "id": "8afae418",
   "metadata": {},
   "outputs": [
    {
     "name": "stdout",
     "output_type": "stream",
     "text": [
      "+-----------+--------------+\n",
      "|customer_id|no_of_customer|\n",
      "+-----------+--------------+\n",
      "|       5897|            16|\n",
      "|      12431|            16|\n",
      "|        569|            16|\n",
      "|       6316|            16|\n",
      "|      12284|            15|\n",
      "|       4320|            15|\n",
      "|       5624|            15|\n",
      "|       5283|            15|\n",
      "|        221|            15|\n",
      "|       5654|            15|\n",
      "|       6248|            14|\n",
      "|       3708|            14|\n",
      "|       1011|            14|\n",
      "|       8652|            14|\n",
      "|       4517|            14|\n",
      "+-----------+--------------+\n",
      "\n"
     ]
    }
   ],
   "source": [
    "result.show()"
   ]
  },
  {
   "cell_type": "markdown",
   "id": "1c1e0541",
   "metadata": {},
   "source": [
    "### 2.Find the number of orders under each order status"
   ]
  },
  {
   "cell_type": "code",
   "execution_count": 10,
   "id": "e9031b4f",
   "metadata": {},
   "outputs": [],
   "source": [
    "no_of_orders_by_cat_df = order_df.groupby(\"order_status\").count()"
   ]
  },
  {
   "cell_type": "code",
   "execution_count": 11,
   "id": "6eb6f870",
   "metadata": {},
   "outputs": [
    {
     "data": {
      "text/html": [
       "<table border='1'>\n",
       "<tr><th>order_status</th><th>count</th></tr>\n",
       "<tr><td>PENDING_PAYMENT</td><td>15030</td></tr>\n",
       "<tr><td>COMPLETE</td><td>22899</td></tr>\n",
       "<tr><td>ON_HOLD</td><td>3798</td></tr>\n",
       "<tr><td>PAYMENT_REVIEW</td><td>729</td></tr>\n",
       "<tr><td>PROCESSING</td><td>8275</td></tr>\n",
       "<tr><td>CLOSED</td><td>7556</td></tr>\n",
       "<tr><td>SUSPECTED_FRAUD</td><td>1558</td></tr>\n",
       "<tr><td>PENDING</td><td>7610</td></tr>\n",
       "<tr><td>CANCELED</td><td>1428</td></tr>\n",
       "</table>\n"
      ],
      "text/plain": [
       "+---------------+-----+\n",
       "|   order_status|count|\n",
       "+---------------+-----+\n",
       "|PENDING_PAYMENT|15030|\n",
       "|       COMPLETE|22899|\n",
       "|        ON_HOLD| 3798|\n",
       "| PAYMENT_REVIEW|  729|\n",
       "|     PROCESSING| 8275|\n",
       "|         CLOSED| 7556|\n",
       "|SUSPECTED_FRAUD| 1558|\n",
       "|        PENDING| 7610|\n",
       "|       CANCELED| 1428|\n",
       "+---------------+-----+"
      ]
     },
     "execution_count": 11,
     "metadata": {},
     "output_type": "execute_result"
    }
   ],
   "source": [
    "no_of_orders_by_cat_df"
   ]
  },
  {
   "cell_type": "code",
   "execution_count": 12,
   "id": "165cddd7",
   "metadata": {},
   "outputs": [],
   "source": [
    "result1 = spark.sql(\"select order_status, count(order_id) count_of_orders from orders group by order_status\")"
   ]
  },
  {
   "cell_type": "code",
   "execution_count": 13,
   "id": "6a73b4fd",
   "metadata": {},
   "outputs": [
    {
     "name": "stdout",
     "output_type": "stream",
     "text": [
      "+---------------+---------------+\n",
      "|   order_status|count_of_orders|\n",
      "+---------------+---------------+\n",
      "|PENDING_PAYMENT|          15030|\n",
      "|       COMPLETE|          22899|\n",
      "|        ON_HOLD|           3798|\n",
      "| PAYMENT_REVIEW|            729|\n",
      "|     PROCESSING|           8275|\n",
      "|         CLOSED|           7556|\n",
      "|SUSPECTED_FRAUD|           1558|\n",
      "|        PENDING|           7610|\n",
      "|       CANCELED|           1428|\n",
      "+---------------+---------------+\n",
      "\n"
     ]
    }
   ],
   "source": [
    "result1.show()"
   ]
  },
  {
   "cell_type": "markdown",
   "id": "f8e49dd7",
   "metadata": {},
   "source": [
    "### 3.Number of active customers(customers who have placed atleast one order)"
   ]
  },
  {
   "cell_type": "code",
   "execution_count": 14,
   "id": "a21d324a",
   "metadata": {},
   "outputs": [],
   "source": [
    "no_of_active_customers = order_df.select(\"customer_id\").distinct().count()"
   ]
  },
  {
   "cell_type": "code",
   "execution_count": 15,
   "id": "9729406b",
   "metadata": {},
   "outputs": [
    {
     "data": {
      "text/plain": [
       "12405"
      ]
     },
     "execution_count": 15,
     "metadata": {},
     "output_type": "execute_result"
    }
   ],
   "source": [
    "no_of_active_customers"
   ]
  },
  {
   "cell_type": "markdown",
   "id": "d22a8d3f",
   "metadata": {},
   "source": [
    "##### Important observation, count is transformation and action as well. with group by  its an transformation as result will depends on group by column where as without group by its an action as reult will be single row"
   ]
  },
  {
   "cell_type": "code",
   "execution_count": 16,
   "id": "faf3a329",
   "metadata": {},
   "outputs": [],
   "source": [
    "result2 = spark.sql(\"select count(distinct customer_id) from orders\")"
   ]
  },
  {
   "cell_type": "code",
   "execution_count": 17,
   "id": "3bfce0a9",
   "metadata": {},
   "outputs": [
    {
     "name": "stdout",
     "output_type": "stream",
     "text": [
      "+---------------------------+\n",
      "|count(DISTINCT customer_id)|\n",
      "+---------------------------+\n",
      "|                      12405|\n",
      "+---------------------------+\n",
      "\n"
     ]
    }
   ],
   "source": [
    "result2.show()"
   ]
  },
  {
   "cell_type": "markdown",
   "id": "b6344003",
   "metadata": {},
   "source": [
    "### 4.Customer with most number of orders which are closed"
   ]
  },
  {
   "cell_type": "code",
   "execution_count": 18,
   "id": "a8c279c0",
   "metadata": {},
   "outputs": [],
   "source": [
    "cust_with_most_orders = order_df.filter(\"order_status = 'CLOSED'\") \\\n",
    ".groupby(\"customer_id\").count().sort(\"count\", ascending = False).limit(1)"
   ]
  },
  {
   "cell_type": "code",
   "execution_count": 19,
   "id": "d490b9de",
   "metadata": {},
   "outputs": [
    {
     "name": "stdout",
     "output_type": "stream",
     "text": [
      "+-----------+-----+\n",
      "|customer_id|count|\n",
      "+-----------+-----+\n",
      "|       1833|    6|\n",
      "+-----------+-----+\n",
      "\n"
     ]
    }
   ],
   "source": [
    "cust_with_most_orders.show()"
   ]
  },
  {
   "cell_type": "code",
   "execution_count": 21,
   "id": "21265e5c",
   "metadata": {},
   "outputs": [],
   "source": [
    "result3 = spark.sql(\"select customer_id,count(order_id) as count from orders where order_status='CLOSED' group by customer_id order by count desc limit 1\")"
   ]
  },
  {
   "cell_type": "code",
   "execution_count": 23,
   "id": "ef0f2114",
   "metadata": {},
   "outputs": [
    {
     "name": "stdout",
     "output_type": "stream",
     "text": [
      "+-----------+-----+\n",
      "|customer_id|count|\n",
      "+-----------+-----+\n",
      "|       1833|    6|\n",
      "+-----------+-----+\n",
      "\n"
     ]
    }
   ],
   "source": [
    "result3.show()"
   ]
  },
  {
   "cell_type": "code",
   "execution_count": null,
   "id": "af7e2a6f",
   "metadata": {},
   "outputs": [],
   "source": []
  }
 ],
 "metadata": {
  "kernelspec": {
   "display_name": "Pyspark 3",
   "language": "python",
   "name": "pyspark3"
  },
  "language_info": {
   "codemirror_mode": {
    "name": "ipython",
    "version": 3
   },
   "file_extension": ".py",
   "mimetype": "text/x-python",
   "name": "python",
   "nbconvert_exporter": "python",
   "pygments_lexer": "ipython3",
   "version": "3.6.12"
  }
 },
 "nbformat": 4,
 "nbformat_minor": 5
}
