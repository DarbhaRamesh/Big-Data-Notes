{
 "cells": [
  {
   "cell_type": "code",
   "execution_count": 1,
   "id": "b632de00",
   "metadata": {},
   "outputs": [],
   "source": [
    "from pyspark.sql import SparkSession\n",
    "import getpass\n",
    "\n",
    "username = getpass.getuser()\n",
    "\n",
    "spark = SparkSession. \\\n",
    "\tbuilder. \\\n",
    "\tconfig('spark.ui.port', '0'). \\\n",
    "\tconfig(\"spark.sql.warehouse.dir\", f\"/user/{username}/warehouse\"). \\\n",
    "\tenableHiveSupport(). \\\n",
    "\tmaster('yarn'). \\\n",
    "\tgetOrCreate()"
   ]
  },
  {
   "cell_type": "code",
   "execution_count": 2,
   "id": "7423e94e",
   "metadata": {},
   "outputs": [
    {
     "data": {
      "text/html": [
       "<table border='1'>\n",
       "<tr><th></th></tr>\n",
       "</table>\n"
      ],
      "text/plain": [
       "++\n",
       "||\n",
       "++\n",
       "++"
      ]
     },
     "execution_count": 2,
     "metadata": {},
     "output_type": "execute_result"
    }
   ],
   "source": [
    "spark.sql(\"create database if not exists itv014945_db\")"
   ]
  },
  {
   "cell_type": "code",
   "execution_count": 3,
   "id": "58ab544e",
   "metadata": {},
   "outputs": [
    {
     "name": "stdout",
     "output_type": "stream",
     "text": [
      "+--------------------+\n",
      "|           namespace|\n",
      "+--------------------+\n",
      "|0000000000000_msdian|\n",
      "|0000000000000_nav...|\n",
      "|0000000009874_retail|\n",
      "|          00000_2_db|\n",
      "|       00000assg5_db|\n",
      "+--------------------+\n",
      "only showing top 5 rows\n",
      "\n"
     ]
    }
   ],
   "source": [
    "spark.sql(\"show databases\").show(5)"
   ]
  },
  {
   "cell_type": "markdown",
   "id": "b345fcd1",
   "metadata": {},
   "source": [
    "### To search the database you created"
   ]
  },
  {
   "cell_type": "code",
   "execution_count": 4,
   "id": "79da90c8",
   "metadata": {},
   "outputs": [
    {
     "name": "stdout",
     "output_type": "stream",
     "text": [
      "+------------+\n",
      "|   namespace|\n",
      "+------------+\n",
      "|itv014945_db|\n",
      "+------------+\n",
      "\n"
     ]
    }
   ],
   "source": [
    "spark.sql(\"show databases\").filter(\"namespace = 'itv014945_db'\").show()"
   ]
  },
  {
   "cell_type": "markdown",
   "id": "6b2efa45",
   "metadata": {},
   "source": [
    "### To search the database created by you"
   ]
  },
  {
   "cell_type": "code",
   "execution_count": 5,
   "id": "e5a240e5",
   "metadata": {},
   "outputs": [
    {
     "name": "stdout",
     "output_type": "stream",
     "text": [
      "+------------+\n",
      "|   namespace|\n",
      "+------------+\n",
      "|itv014945_db|\n",
      "+------------+\n",
      "\n"
     ]
    }
   ],
   "source": [
    "spark.sql(\"show databases\").filter(\"namespace like 'itv014945_%'\").show()"
   ]
  },
  {
   "cell_type": "markdown",
   "id": "2d5a6560",
   "metadata": {},
   "source": [
    "### To search tables"
   ]
  },
  {
   "cell_type": "code",
   "execution_count": 6,
   "id": "6da9a729",
   "metadata": {},
   "outputs": [
    {
     "name": "stdout",
     "output_type": "stream",
     "text": [
      "+--------+--------------+-----------+\n",
      "|database|     tableName|isTemporary|\n",
      "+--------+--------------+-----------+\n",
      "| default|         1htab|      false|\n",
      "| default|41group_movies|      false|\n",
      "| default| 4group_movies|      false|\n",
      "| default|          4tab|      false|\n",
      "| default| 6_flags_simon|      false|\n",
      "+--------+--------------+-----------+\n",
      "only showing top 5 rows\n",
      "\n"
     ]
    }
   ],
   "source": [
    "spark.sql(\"show tables\").show(5)"
   ]
  },
  {
   "cell_type": "markdown",
   "id": "664a5855",
   "metadata": {},
   "source": [
    "### To search or use your database"
   ]
  },
  {
   "cell_type": "code",
   "execution_count": 7,
   "id": "2647ce89",
   "metadata": {},
   "outputs": [
    {
     "data": {
      "text/html": [
       "<table border='1'>\n",
       "<tr><th></th></tr>\n",
       "</table>\n"
      ],
      "text/plain": [
       "++\n",
       "||\n",
       "++\n",
       "++"
      ]
     },
     "execution_count": 7,
     "metadata": {},
     "output_type": "execute_result"
    }
   ],
   "source": [
    "spark.sql(\"use itv014945_db\") "
   ]
  },
  {
   "cell_type": "code",
   "execution_count": 8,
   "id": "e317bb74",
   "metadata": {},
   "outputs": [
    {
     "name": "stdout",
     "output_type": "stream",
     "text": [
      "+------------+-----------+-----------+\n",
      "|    database|  tableName|isTemporary|\n",
      "+------------+-----------+-----------+\n",
      "|itv014945_db|     orders|      false|\n",
      "|itv014945_db| orders_ext|      false|\n",
      "|itv014945_db|sampletable|      false|\n",
      "+------------+-----------+-----------+\n",
      "\n"
     ]
    }
   ],
   "source": [
    "spark.sql(\"show tables\").show(5)"
   ]
  },
  {
   "cell_type": "code",
   "execution_count": 9,
   "id": "87d6e2ff",
   "metadata": {},
   "outputs": [
    {
     "data": {
      "text/html": [
       "<table border='1'>\n",
       "<tr><th></th></tr>\n",
       "</table>\n"
      ],
      "text/plain": [
       "++\n",
       "||\n",
       "++\n",
       "++"
      ]
     },
     "execution_count": 9,
     "metadata": {},
     "output_type": "execute_result"
    }
   ],
   "source": [
    "spark.sql(\"create table if not exists itv014945_db.sampleTable(id integer, name string)\")"
   ]
  },
  {
   "cell_type": "code",
   "execution_count": 10,
   "id": "2b65031c",
   "metadata": {},
   "outputs": [
    {
     "name": "stdout",
     "output_type": "stream",
     "text": [
      "+------------+-----------+-----------+\n",
      "|    database|  tableName|isTemporary|\n",
      "+------------+-----------+-----------+\n",
      "|itv014945_db|     orders|      false|\n",
      "|itv014945_db| orders_ext|      false|\n",
      "|itv014945_db|sampletable|      false|\n",
      "+------------+-----------+-----------+\n",
      "\n"
     ]
    }
   ],
   "source": [
    "spark.sql(\"show tables\").show(5)"
   ]
  },
  {
   "cell_type": "code",
   "execution_count": 28,
   "id": "af356c4a",
   "metadata": {},
   "outputs": [
    {
     "data": {
      "text/html": [
       "<table border='1'>\n",
       "<tr><th></th></tr>\n",
       "</table>\n"
      ],
      "text/plain": [
       "++\n",
       "||\n",
       "++\n",
       "++"
      ]
     },
     "execution_count": 28,
     "metadata": {},
     "output_type": "execute_result"
    }
   ],
   "source": [
    "spark.sql(\"insert into itv014945_db.sampleTable values(1,'Big Data'),(2,'Spark')\")"
   ]
  },
  {
   "cell_type": "code",
   "execution_count": 29,
   "id": "50e91d4e",
   "metadata": {},
   "outputs": [
    {
     "data": {
      "text/html": [
       "<table border='1'>\n",
       "<tr><th>id</th><th>name</th></tr>\n",
       "<tr><td>1</td><td>Big Data</td></tr>\n",
       "<tr><td>2</td><td>Spark</td></tr>\n",
       "</table>\n"
      ],
      "text/plain": [
       "+---+--------+\n",
       "| id|    name|\n",
       "+---+--------+\n",
       "|  1|Big Data|\n",
       "|  2|   Spark|\n",
       "+---+--------+"
      ]
     },
     "execution_count": 29,
     "metadata": {},
     "output_type": "execute_result"
    }
   ],
   "source": [
    "spark.sql(\"select * from itv014945_db.sampleTable\")"
   ]
  },
  {
   "cell_type": "code",
   "execution_count": 13,
   "id": "57d6389e",
   "metadata": {},
   "outputs": [
    {
     "name": "stdout",
     "output_type": "stream",
     "text": [
      "+--------+---------+-------+\n",
      "|col_name|data_type|comment|\n",
      "+--------+---------+-------+\n",
      "|      id|      int|   null|\n",
      "|    name|   string|   null|\n",
      "+--------+---------+-------+\n",
      "\n"
     ]
    }
   ],
   "source": [
    "spark.sql(\"describe table itv014945_db.sampleTable\").show()"
   ]
  },
  {
   "cell_type": "code",
   "execution_count": 14,
   "id": "8799d342",
   "metadata": {},
   "outputs": [
    {
     "name": "stdout",
     "output_type": "stream",
     "text": [
      "+----------------------------+----------------------------------------------------------------------------------+-------+\n",
      "|col_name                    |data_type                                                                         |comment|\n",
      "+----------------------------+----------------------------------------------------------------------------------+-------+\n",
      "|id                          |int                                                                               |null   |\n",
      "|name                        |string                                                                            |null   |\n",
      "|                            |                                                                                  |       |\n",
      "|# Detailed Table Information|                                                                                  |       |\n",
      "|Database                    |itv014945_db                                                                      |       |\n",
      "|Table                       |sampletable                                                                       |       |\n",
      "|Owner                       |itv014945                                                                         |       |\n",
      "|Created Time                |Mon Sep 23 13:22:09 EDT 2024                                                      |       |\n",
      "|Last Access                 |UNKNOWN                                                                           |       |\n",
      "|Created By                  |Spark 3.1.2                                                                       |       |\n",
      "|Type                        |MANAGED                                                                           |       |\n",
      "|Provider                    |hive                                                                              |       |\n",
      "|Table Properties            |[transient_lastDdlTime=1727114822]                                                |       |\n",
      "|Statistics                  |38 bytes                                                                          |       |\n",
      "|Location                    |hdfs://m01.itversity.com:9000/user/itv014945/warehouse/itv014945_db.db/sampletable|       |\n",
      "|Serde Library               |org.apache.hadoop.hive.serde2.lazy.LazySimpleSerDe                                |       |\n",
      "|InputFormat                 |org.apache.hadoop.mapred.TextInputFormat                                          |       |\n",
      "|OutputFormat                |org.apache.hadoop.hive.ql.io.HiveIgnoreKeyTextOutputFormat                        |       |\n",
      "|Storage Properties          |[serialization.format=1]                                                          |       |\n",
      "|Partition Provider          |Catalog                                                                           |       |\n",
      "+----------------------------+----------------------------------------------------------------------------------+-------+\n",
      "\n"
     ]
    }
   ],
   "source": [
    "spark.sql(\"describe extended itv014945_db.sampleTable\").show(truncate=False)"
   ]
  },
  {
   "cell_type": "code",
   "execution_count": 15,
   "id": "9d382416",
   "metadata": {},
   "outputs": [
    {
     "name": "stdout",
     "output_type": "stream",
     "text": [
      "+----------------------------+----------------------------------------------------------------------------------+-------+\n",
      "|col_name                    |data_type                                                                         |comment|\n",
      "+----------------------------+----------------------------------------------------------------------------------+-------+\n",
      "|id                          |int                                                                               |null   |\n",
      "|name                        |string                                                                            |null   |\n",
      "|                            |                                                                                  |       |\n",
      "|# Detailed Table Information|                                                                                  |       |\n",
      "|Database                    |itv014945_db                                                                      |       |\n",
      "|Table                       |sampletable                                                                       |       |\n",
      "|Owner                       |itv014945                                                                         |       |\n",
      "|Created Time                |Mon Sep 23 13:22:09 EDT 2024                                                      |       |\n",
      "|Last Access                 |UNKNOWN                                                                           |       |\n",
      "|Created By                  |Spark 3.1.2                                                                       |       |\n",
      "|Type                        |MANAGED                                                                           |       |\n",
      "|Provider                    |hive                                                                              |       |\n",
      "|Table Properties            |[transient_lastDdlTime=1727114822]                                                |       |\n",
      "|Statistics                  |38 bytes                                                                          |       |\n",
      "|Location                    |hdfs://m01.itversity.com:9000/user/itv014945/warehouse/itv014945_db.db/sampletable|       |\n",
      "|Serde Library               |org.apache.hadoop.hive.serde2.lazy.LazySimpleSerDe                                |       |\n",
      "|InputFormat                 |org.apache.hadoop.mapred.TextInputFormat                                          |       |\n",
      "|OutputFormat                |org.apache.hadoop.hive.ql.io.HiveIgnoreKeyTextOutputFormat                        |       |\n",
      "|Storage Properties          |[serialization.format=1]                                                          |       |\n",
      "|Partition Provider          |Catalog                                                                           |       |\n",
      "+----------------------------+----------------------------------------------------------------------------------+-------+\n",
      "\n"
     ]
    }
   ],
   "source": [
    "spark.sql(\"describe formatted itv014945_db.sampleTable\").show(truncate=False)"
   ]
  },
  {
   "cell_type": "code",
   "execution_count": 23,
   "id": "019dbc59",
   "metadata": {},
   "outputs": [
    {
     "data": {
      "text/html": [
       "<table border='1'>\n",
       "<tr><th></th></tr>\n",
       "</table>\n"
      ],
      "text/plain": [
       "++\n",
       "||\n",
       "++\n",
       "++"
      ]
     },
     "execution_count": 23,
     "metadata": {},
     "output_type": "execute_result"
    }
   ],
   "source": [
    "spark.sql(\"create table itv014945_db.orders_ext (order_id integer,order_date string,customer_id integer,order_status string) using csv location '/public/trendytech/orders/orders.csv'\")"
   ]
  },
  {
   "cell_type": "code",
   "execution_count": 24,
   "id": "1aec95f0",
   "metadata": {},
   "outputs": [
    {
     "name": "stdout",
     "output_type": "stream",
     "text": [
      "+----------------------------+-----------------------------------------------------------------+-------+\n",
      "|col_name                    |data_type                                                        |comment|\n",
      "+----------------------------+-----------------------------------------------------------------+-------+\n",
      "|order_id                    |int                                                              |null   |\n",
      "|order_date                  |string                                                           |null   |\n",
      "|customer_id                 |int                                                              |null   |\n",
      "|order_status                |string                                                           |null   |\n",
      "|                            |                                                                 |       |\n",
      "|# Detailed Table Information|                                                                 |       |\n",
      "|Database                    |itv014945_db                                                     |       |\n",
      "|Table                       |orders_ext                                                       |       |\n",
      "|Owner                       |itv014945                                                        |       |\n",
      "|Created Time                |Mon Sep 23 14:08:22 EDT 2024                                     |       |\n",
      "|Last Access                 |UNKNOWN                                                          |       |\n",
      "|Created By                  |Spark 3.1.2                                                      |       |\n",
      "|Type                        |EXTERNAL                                                         |       |\n",
      "|Provider                    |csv                                                              |       |\n",
      "|Location                    |hdfs://m01.itversity.com:9000/public/trendytech/orders/orders.csv|       |\n",
      "|Serde Library               |org.apache.hadoop.hive.serde2.lazy.LazySimpleSerDe               |       |\n",
      "|InputFormat                 |org.apache.hadoop.mapred.SequenceFileInputFormat                 |       |\n",
      "|OutputFormat                |org.apache.hadoop.hive.ql.io.HiveSequenceFileOutputFormat        |       |\n",
      "+----------------------------+-----------------------------------------------------------------+-------+\n",
      "\n"
     ]
    }
   ],
   "source": [
    "spark.sql(\"describe formatted itv014945_db.orders_ext\").show(truncate = False)"
   ]
  },
  {
   "cell_type": "code",
   "execution_count": 26,
   "id": "e6c65959",
   "metadata": {},
   "outputs": [
    {
     "name": "stdout",
     "output_type": "stream",
     "text": [
      "+--------+---------------------+-----------+---------------+\n",
      "|order_id|order_date           |customer_id|order_status   |\n",
      "+--------+---------------------+-----------+---------------+\n",
      "|1       |2013-07-25 00:00:00.0|11599      |CLOSED         |\n",
      "|2       |2013-07-25 00:00:00.0|256        |PENDING_PAYMENT|\n",
      "|3       |2013-07-25 00:00:00.0|12111      |COMPLETE       |\n",
      "|4       |2013-07-25 00:00:00.0|8827       |CLOSED         |\n",
      "|5       |2013-07-25 00:00:00.0|11318      |COMPLETE       |\n",
      "+--------+---------------------+-----------+---------------+\n",
      "\n"
     ]
    }
   ],
   "source": [
    "spark.sql(\"select * from itv014945_db.orders_ext limit 5\").show(truncate=False)"
   ]
  },
  {
   "cell_type": "code",
   "execution_count": 27,
   "id": "fe947dbf",
   "metadata": {},
   "outputs": [
    {
     "data": {
      "text/html": [
       "<table border='1'>\n",
       "<tr><th></th></tr>\n",
       "</table>\n"
      ],
      "text/plain": [
       "++\n",
       "||\n",
       "++\n",
       "++"
      ]
     },
     "execution_count": 27,
     "metadata": {},
     "output_type": "execute_result"
    }
   ],
   "source": []
  },
  {
   "cell_type": "code",
   "execution_count": null,
   "id": "ba833532",
   "metadata": {},
   "outputs": [],
   "source": []
  }
 ],
 "metadata": {
  "kernelspec": {
   "display_name": "Pyspark 3",
   "language": "python",
   "name": "pyspark3"
  },
  "language_info": {
   "codemirror_mode": {
    "name": "ipython",
    "version": 3
   },
   "file_extension": ".py",
   "mimetype": "text/x-python",
   "name": "python",
   "nbconvert_exporter": "python",
   "pygments_lexer": "ipython3",
   "version": "3.6.12"
  }
 },
 "nbformat": 4,
 "nbformat_minor": 5
}
