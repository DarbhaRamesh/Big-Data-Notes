{
 "cells": [
  {
   "cell_type": "code",
   "execution_count": 35,
   "id": "269bd9d6",
   "metadata": {},
   "outputs": [],
   "source": [
    "from pyspark.sql import SparkSession\n",
    "import getpass\n",
    "\n",
    "username = getpass.getuser()\n",
    "\n",
    "spark = SparkSession. \\\n",
    "\tbuilder. \\\n",
    "\tconfig('spark.ui.port', '0'). \\\n",
    "\tconfig(\"spark.sql.warehouse.dir\", f\"/user/{username}/warehouse\"). \\\n",
    "\tenableHiveSupport(). \\\n",
    "\tmaster('yarn'). \\\n",
    "\tgetOrCreate()"
   ]
  },
  {
   "cell_type": "code",
   "execution_count": 36,
   "id": "cf7dae73",
   "metadata": {},
   "outputs": [
    {
     "data": {
      "text/html": [
       "\n",
       "            <div>\n",
       "                <p><b>SparkSession - hive</b></p>\n",
       "                \n",
       "        <div>\n",
       "            <p><b>SparkContext</b></p>\n",
       "\n",
       "            <p><a href=\"http://g01.itversity.com:40857\">Spark UI</a></p>\n",
       "\n",
       "            <dl>\n",
       "              <dt>Version</dt>\n",
       "                <dd><code>v3.1.2</code></dd>\n",
       "              <dt>Master</dt>\n",
       "                <dd><code>yarn</code></dd>\n",
       "              <dt>AppName</dt>\n",
       "                <dd><code>pyspark-shell</code></dd>\n",
       "            </dl>\n",
       "        </div>\n",
       "        \n",
       "            </div>\n",
       "        "
      ],
      "text/plain": [
       "<pyspark.sql.session.SparkSession at 0x7f509e809780>"
      ]
     },
     "execution_count": 36,
     "metadata": {},
     "output_type": "execute_result"
    }
   ],
   "source": [
    "spark"
   ]
  },
  {
   "cell_type": "code",
   "execution_count": 37,
   "id": "9c6024ac",
   "metadata": {},
   "outputs": [],
   "source": [
    "orders_df = spark.read \\\n",
    ".format(\"csv\") \\\n",
    ".option(\"header\",\"true\") \\\n",
    ".option(\"inferSchema\",\"true\") \\\n",
    ".load(\"/public/trendytech/orders_wh/*\")"
   ]
  },
  {
   "cell_type": "code",
   "execution_count": 38,
   "id": "df21b709",
   "metadata": {},
   "outputs": [
    {
     "name": "stdout",
     "output_type": "stream",
     "text": [
      "+--------+--------------------+-----------+---------------+\n",
      "|order_id|          order_date|customer_id|   order_status|\n",
      "+--------+--------------------+-----------+---------------+\n",
      "|       1|2013-07-25 00:00:...|      11599|         CLOSED|\n",
      "|       2|2013-07-25 00:00:...|        256|PENDING_PAYMENT|\n",
      "|       3|2013-07-25 00:00:...|      12111|       COMPLETE|\n",
      "|       4|2013-07-25 00:00:...|       8827|         CLOSED|\n",
      "|       5|2013-07-25 00:00:...|      11318|       COMPLETE|\n",
      "|       6|2013-07-25 00:00:...|       7130|       COMPLETE|\n",
      "|       7|2013-07-25 00:00:...|       4530|       COMPLETE|\n",
      "|       8|2013-07-25 00:00:...|       2911|     PROCESSING|\n",
      "|       9|2013-07-25 00:00:...|       5657|PENDING_PAYMENT|\n",
      "|      10|2013-07-25 00:00:...|       5648|PENDING_PAYMENT|\n",
      "|      11|2013-07-25 00:00:...|        918| PAYMENT_REVIEW|\n",
      "|      12|2013-07-25 00:00:...|       1837|         CLOSED|\n",
      "|      13|2013-07-25 00:00:...|       9149|PENDING_PAYMENT|\n",
      "|      14|2013-07-25 00:00:...|       9842|     PROCESSING|\n",
      "|      15|2013-07-25 00:00:...|       2568|       COMPLETE|\n",
      "|      16|2013-07-25 00:00:...|       7276|PENDING_PAYMENT|\n",
      "|      17|2013-07-25 00:00:...|       2667|       COMPLETE|\n",
      "|      18|2013-07-25 00:00:...|       1205|         CLOSED|\n",
      "|      19|2013-07-25 00:00:...|       9488|PENDING_PAYMENT|\n",
      "|      20|2013-07-25 00:00:...|       9198|     PROCESSING|\n",
      "+--------+--------------------+-----------+---------------+\n",
      "only showing top 20 rows\n",
      "\n"
     ]
    }
   ],
   "source": [
    "orders_df.show()"
   ]
  },
  {
   "cell_type": "markdown",
   "id": "5e637b85",
   "metadata": {},
   "source": [
    "### Show the schema"
   ]
  },
  {
   "cell_type": "code",
   "execution_count": 39,
   "id": "357f96e9",
   "metadata": {},
   "outputs": [
    {
     "name": "stdout",
     "output_type": "stream",
     "text": [
      "root\n",
      " |-- order_id: integer (nullable = true)\n",
      " |-- order_date: string (nullable = true)\n",
      " |-- customer_id: integer (nullable = true)\n",
      " |-- order_status: string (nullable = true)\n",
      "\n"
     ]
    }
   ],
   "source": [
    "orders_df.printSchema()"
   ]
  },
  {
   "cell_type": "markdown",
   "id": "cddcc455",
   "metadata": {},
   "source": [
    "### change order status to status"
   ]
  },
  {
   "cell_type": "code",
   "execution_count": 40,
   "id": "061d16e5",
   "metadata": {},
   "outputs": [],
   "source": [
    "renamed_orders_df = orders_df.withColumnRenamed(\"order_status\",\"status\")"
   ]
  },
  {
   "cell_type": "code",
   "execution_count": 41,
   "id": "8632f960",
   "metadata": {},
   "outputs": [
    {
     "name": "stdout",
     "output_type": "stream",
     "text": [
      "+--------+--------------------+-----------+---------------+\n",
      "|order_id|          order_date|customer_id|         status|\n",
      "+--------+--------------------+-----------+---------------+\n",
      "|       1|2013-07-25 00:00:...|      11599|         CLOSED|\n",
      "|       2|2013-07-25 00:00:...|        256|PENDING_PAYMENT|\n",
      "|       3|2013-07-25 00:00:...|      12111|       COMPLETE|\n",
      "|       4|2013-07-25 00:00:...|       8827|         CLOSED|\n",
      "|       5|2013-07-25 00:00:...|      11318|       COMPLETE|\n",
      "+--------+--------------------+-----------+---------------+\n",
      "only showing top 5 rows\n",
      "\n"
     ]
    }
   ],
   "source": [
    "renamed_orders_df.show(5)"
   ]
  },
  {
   "cell_type": "markdown",
   "id": "a247ea62",
   "metadata": {},
   "source": [
    "### change datatype of order date"
   ]
  },
  {
   "cell_type": "code",
   "execution_count": 42,
   "id": "01d98026",
   "metadata": {},
   "outputs": [],
   "source": [
    "from pyspark.sql.functions import to_timestamp\n",
    "changed_datatype_df=renamed_orders_df.withColumn(\"orders_date\", to_timestamp(\"order_date\"))"
   ]
  },
  {
   "cell_type": "code",
   "execution_count": 43,
   "id": "746753e3",
   "metadata": {},
   "outputs": [
    {
     "name": "stdout",
     "output_type": "stream",
     "text": [
      "root\n",
      " |-- order_id: integer (nullable = true)\n",
      " |-- order_date: string (nullable = true)\n",
      " |-- customer_id: integer (nullable = true)\n",
      " |-- status: string (nullable = true)\n",
      " |-- orders_date: timestamp (nullable = true)\n",
      "\n"
     ]
    }
   ],
   "source": [
    "changed_datatype_df.printSchema()"
   ]
  },
  {
   "cell_type": "markdown",
   "id": "2adbfa78",
   "metadata": {},
   "source": [
    "### short cut methods to read different file formats"
   ]
  },
  {
   "cell_type": "code",
   "execution_count": 44,
   "id": "7ca58312",
   "metadata": {},
   "outputs": [],
   "source": [
    "orders_csv_df = spark.read \\\n",
    ".csv(\"/public/trendytech/orders_wh/*\", \\\n",
    "     header = \"true\", \\\n",
    "     inferSchema=\"true\")"
   ]
  },
  {
   "cell_type": "code",
   "execution_count": 45,
   "id": "d352976c",
   "metadata": {},
   "outputs": [
    {
     "name": "stdout",
     "output_type": "stream",
     "text": [
      "+--------+--------------------+-----------+---------------+\n",
      "|order_id|          order_date|customer_id|   order_status|\n",
      "+--------+--------------------+-----------+---------------+\n",
      "|       1|2013-07-25 00:00:...|      11599|         CLOSED|\n",
      "|       2|2013-07-25 00:00:...|        256|PENDING_PAYMENT|\n",
      "|       3|2013-07-25 00:00:...|      12111|       COMPLETE|\n",
      "|       4|2013-07-25 00:00:...|       8827|         CLOSED|\n",
      "|       5|2013-07-25 00:00:...|      11318|       COMPLETE|\n",
      "+--------+--------------------+-----------+---------------+\n",
      "only showing top 5 rows\n",
      "\n"
     ]
    }
   ],
   "source": [
    "orders_csv_df.show(5)"
   ]
  },
  {
   "cell_type": "markdown",
   "id": "1ea92f8e",
   "metadata": {},
   "source": [
    "### Read Json"
   ]
  },
  {
   "cell_type": "code",
   "execution_count": 46,
   "id": "5b25ebea",
   "metadata": {},
   "outputs": [],
   "source": [
    "orders_json_df = spark.read.json(\"/public/trendytech/datasets/orders.json\")"
   ]
  },
  {
   "cell_type": "code",
   "execution_count": 47,
   "id": "c7393c91",
   "metadata": {},
   "outputs": [
    {
     "name": "stdout",
     "output_type": "stream",
     "text": [
      "+-----------+--------------------+--------+---------------+\n",
      "|customer_id|          order_date|order_id|   order_status|\n",
      "+-----------+--------------------+--------+---------------+\n",
      "|      11599|2013-07-25 00:00:...|       1|         CLOSED|\n",
      "|        256|2013-07-25 00:00:...|       2|PENDING_PAYMENT|\n",
      "|      12111|2013-07-25 00:00:...|       3|       COMPLETE|\n",
      "|       8827|2013-07-25 00:00:...|       4|         CLOSED|\n",
      "|      11318|2013-07-25 00:00:...|       5|       COMPLETE|\n",
      "+-----------+--------------------+--------+---------------+\n",
      "only showing top 5 rows\n",
      "\n"
     ]
    }
   ],
   "source": [
    "orders_json_df.show(5)"
   ]
  },
  {
   "cell_type": "code",
   "execution_count": 68,
   "id": "1f9bb59c",
   "metadata": {},
   "outputs": [
    {
     "name": "stdout",
     "output_type": "stream",
     "text": [
      "root\n",
      " |-- customer_id: long (nullable = true)\n",
      " |-- order_date: string (nullable = true)\n",
      " |-- order_id: long (nullable = true)\n",
      " |-- order_status: string (nullable = true)\n",
      "\n"
     ]
    }
   ],
   "source": [
    "orders_json_df.printSchema()"
   ]
  },
  {
   "cell_type": "markdown",
   "id": "d35c8c11",
   "metadata": {},
   "source": [
    "### Read Parquet file"
   ]
  },
  {
   "cell_type": "code",
   "execution_count": 48,
   "id": "46a1f8d8",
   "metadata": {},
   "outputs": [],
   "source": [
    "orders_parquet_df = spark.read.parquet(\"/public/trendytech/datasets/ordersparquet\")"
   ]
  },
  {
   "cell_type": "code",
   "execution_count": 50,
   "id": "82d07eb0",
   "metadata": {},
   "outputs": [
    {
     "name": "stdout",
     "output_type": "stream",
     "text": [
      "+-----------+--------------------+--------+---------------+\n",
      "|customer_id|          order_date|order_id|   order_status|\n",
      "+-----------+--------------------+--------+---------------+\n",
      "|      11599|2013-07-25 00:00:...|       1|         CLOSED|\n",
      "|        256|2013-07-25 00:00:...|       2|PENDING_PAYMENT|\n",
      "|      12111|2013-07-25 00:00:...|       3|       COMPLETE|\n",
      "|       8827|2013-07-25 00:00:...|       4|         CLOSED|\n",
      "|      11318|2013-07-25 00:00:...|       5|       COMPLETE|\n",
      "+-----------+--------------------+--------+---------------+\n",
      "only showing top 5 rows\n",
      "\n"
     ]
    }
   ],
   "source": [
    "orders_parquet_df.show(5)"
   ]
  },
  {
   "cell_type": "code",
   "execution_count": 49,
   "id": "18cf2483",
   "metadata": {},
   "outputs": [
    {
     "name": "stdout",
     "output_type": "stream",
     "text": [
      "root\n",
      " |-- customer_id: long (nullable = true)\n",
      " |-- order_date: string (nullable = true)\n",
      " |-- order_id: long (nullable = true)\n",
      " |-- order_status: string (nullable = true)\n",
      "\n"
     ]
    }
   ],
   "source": [
    "orders_parquet_df.printSchema()"
   ]
  },
  {
   "cell_type": "markdown",
   "id": "6d7b71ec",
   "metadata": {},
   "source": [
    "### Read Orc file"
   ]
  },
  {
   "cell_type": "code",
   "execution_count": 53,
   "id": "c52459e3",
   "metadata": {},
   "outputs": [],
   "source": [
    "orders_orc_df = spark.read.orc(\"/public/trendytech/datasets/ordersorc\")"
   ]
  },
  {
   "cell_type": "code",
   "execution_count": 54,
   "id": "2906f42b",
   "metadata": {},
   "outputs": [
    {
     "name": "stdout",
     "output_type": "stream",
     "text": [
      "+-----------+--------------------+--------+---------------+\n",
      "|customer_id|          order_date|order_id|   order_status|\n",
      "+-----------+--------------------+--------+---------------+\n",
      "|      11599|2013-07-25 00:00:...|       1|         CLOSED|\n",
      "|        256|2013-07-25 00:00:...|       2|PENDING_PAYMENT|\n",
      "|      12111|2013-07-25 00:00:...|       3|       COMPLETE|\n",
      "|       8827|2013-07-25 00:00:...|       4|         CLOSED|\n",
      "|      11318|2013-07-25 00:00:...|       5|       COMPLETE|\n",
      "+-----------+--------------------+--------+---------------+\n",
      "only showing top 5 rows\n",
      "\n"
     ]
    }
   ],
   "source": [
    "orders_orc_df.show(5)"
   ]
  },
  {
   "cell_type": "code",
   "execution_count": 55,
   "id": "d253bff8",
   "metadata": {},
   "outputs": [
    {
     "name": "stdout",
     "output_type": "stream",
     "text": [
      "root\n",
      " |-- customer_id: long (nullable = true)\n",
      " |-- order_date: string (nullable = true)\n",
      " |-- order_id: long (nullable = true)\n",
      " |-- order_status: string (nullable = true)\n",
      "\n"
     ]
    }
   ],
   "source": [
    "orders_orc_df.printSchema()"
   ]
  },
  {
   "cell_type": "markdown",
   "id": "3821c469",
   "metadata": {},
   "source": [
    "### Filter Data"
   ]
  },
  {
   "cell_type": "code",
   "execution_count": 56,
   "id": "ebe99cf2",
   "metadata": {},
   "outputs": [],
   "source": [
    "filtered_data = orders_df.where(\"customer_id = 11599\")"
   ]
  },
  {
   "cell_type": "code",
   "execution_count": 57,
   "id": "86a3a6ef",
   "metadata": {},
   "outputs": [
    {
     "name": "stdout",
     "output_type": "stream",
     "text": [
      "+--------+--------------------+-----------+------------+\n",
      "|order_id|          order_date|customer_id|order_status|\n",
      "+--------+--------------------+-----------+------------+\n",
      "|       1|2013-07-25 00:00:...|      11599|      CLOSED|\n",
      "|   11397|2013-10-03 00:00:...|      11599|    COMPLETE|\n",
      "|   23908|2013-12-20 00:00:...|      11599|    COMPLETE|\n",
      "|   53545|2014-06-27 00:00:...|      11599|     PENDING|\n",
      "|   59911|2013-10-17 00:00:...|      11599|  PROCESSING|\n",
      "+--------+--------------------+-----------+------------+\n",
      "\n"
     ]
    }
   ],
   "source": [
    "filtered_data.show()"
   ]
  },
  {
   "cell_type": "code",
   "execution_count": 58,
   "id": "f181d604",
   "metadata": {},
   "outputs": [
    {
     "name": "stdout",
     "output_type": "stream",
     "text": [
      "+--------+---------------------+-----------+------------+\n",
      "|order_id|order_date           |customer_id|order_status|\n",
      "+--------+---------------------+-----------+------------+\n",
      "|1       |2013-07-25 00:00:00.0|11599      |CLOSED      |\n",
      "|11397   |2013-10-03 00:00:00.0|11599      |COMPLETE    |\n",
      "|23908   |2013-12-20 00:00:00.0|11599      |COMPLETE    |\n",
      "|53545   |2014-06-27 00:00:00.0|11599      |PENDING     |\n",
      "|59911   |2013-10-17 00:00:00.0|11599      |PROCESSING  |\n",
      "+--------+---------------------+-----------+------------+\n",
      "\n"
     ]
    }
   ],
   "source": [
    "filtered_data.show(truncate = False)"
   ]
  },
  {
   "cell_type": "code",
   "execution_count": 59,
   "id": "fec46c93",
   "metadata": {},
   "outputs": [],
   "source": [
    "filtered_data_using_filter = orders_df.filter(\"customer_id = 11599\")"
   ]
  },
  {
   "cell_type": "code",
   "execution_count": 60,
   "id": "4c6277d9",
   "metadata": {},
   "outputs": [
    {
     "name": "stdout",
     "output_type": "stream",
     "text": [
      "+--------+--------------------+-----------+------------+\n",
      "|order_id|          order_date|customer_id|order_status|\n",
      "+--------+--------------------+-----------+------------+\n",
      "|       1|2013-07-25 00:00:...|      11599|      CLOSED|\n",
      "|   11397|2013-10-03 00:00:...|      11599|    COMPLETE|\n",
      "|   23908|2013-12-20 00:00:...|      11599|    COMPLETE|\n",
      "|   53545|2014-06-27 00:00:...|      11599|     PENDING|\n",
      "|   59911|2013-10-17 00:00:...|      11599|  PROCESSING|\n",
      "+--------+--------------------+-----------+------------+\n",
      "\n"
     ]
    }
   ],
   "source": [
    "filtered_data_using_filter.show()"
   ]
  },
  {
   "cell_type": "markdown",
   "id": "b2bb9bec",
   "metadata": {},
   "source": [
    "### Spark Table"
   ]
  },
  {
   "cell_type": "code",
   "execution_count": 61,
   "id": "bd03b226",
   "metadata": {},
   "outputs": [],
   "source": [
    "orders_df.createOrReplaceTempView(\"orders\")"
   ]
  },
  {
   "cell_type": "code",
   "execution_count": 62,
   "id": "fbe8993b",
   "metadata": {},
   "outputs": [],
   "source": [
    "filtered_using_spark_sql_df = spark.sql(\"select * from orders where order_status = 'CLOSED'\")"
   ]
  },
  {
   "cell_type": "code",
   "execution_count": 64,
   "id": "83a63518",
   "metadata": {},
   "outputs": [
    {
     "name": "stdout",
     "output_type": "stream",
     "text": [
      "+--------+---------------------+-----------+------------+\n",
      "|order_id|order_date           |customer_id|order_status|\n",
      "+--------+---------------------+-----------+------------+\n",
      "|1       |2013-07-25 00:00:00.0|11599      |CLOSED      |\n",
      "|4       |2013-07-25 00:00:00.0|8827       |CLOSED      |\n",
      "|12      |2013-07-25 00:00:00.0|1837       |CLOSED      |\n",
      "|18      |2013-07-25 00:00:00.0|1205       |CLOSED      |\n",
      "|24      |2013-07-25 00:00:00.0|11441      |CLOSED      |\n",
      "+--------+---------------------+-----------+------------+\n",
      "only showing top 5 rows\n",
      "\n"
     ]
    }
   ],
   "source": [
    "filtered_using_spark_sql_df.show(5, truncate=False)"
   ]
  },
  {
   "cell_type": "markdown",
   "id": "355c42ff",
   "metadata": {},
   "source": [
    "### Table to Data frame"
   ]
  },
  {
   "cell_type": "code",
   "execution_count": 66,
   "id": "4127c8f5",
   "metadata": {},
   "outputs": [],
   "source": [
    "orders_df_using_spark_sql = spark.read.table(\"orders\")"
   ]
  },
  {
   "cell_type": "code",
   "execution_count": 67,
   "id": "5d568b72",
   "metadata": {},
   "outputs": [
    {
     "name": "stdout",
     "output_type": "stream",
     "text": [
      "+--------+--------------------+-----------+---------------+\n",
      "|order_id|          order_date|customer_id|   order_status|\n",
      "+--------+--------------------+-----------+---------------+\n",
      "|       1|2013-07-25 00:00:...|      11599|         CLOSED|\n",
      "|       2|2013-07-25 00:00:...|        256|PENDING_PAYMENT|\n",
      "|       3|2013-07-25 00:00:...|      12111|       COMPLETE|\n",
      "|       4|2013-07-25 00:00:...|       8827|         CLOSED|\n",
      "|       5|2013-07-25 00:00:...|      11318|       COMPLETE|\n",
      "+--------+--------------------+-----------+---------------+\n",
      "only showing top 5 rows\n",
      "\n"
     ]
    }
   ],
   "source": [
    "orders_df_using_spark_sql.show(5)"
   ]
  },
  {
   "cell_type": "code",
   "execution_count": null,
   "id": "9809dabb",
   "metadata": {},
   "outputs": [],
   "source": []
  }
 ],
 "metadata": {
  "kernelspec": {
   "display_name": "Pyspark 3",
   "language": "python",
   "name": "pyspark3"
  },
  "language_info": {
   "codemirror_mode": {
    "name": "ipython",
    "version": 3
   },
   "file_extension": ".py",
   "mimetype": "text/x-python",
   "name": "python",
   "nbconvert_exporter": "python",
   "pygments_lexer": "ipython3",
   "version": "3.6.12"
  }
 },
 "nbformat": 4,
 "nbformat_minor": 5
}
